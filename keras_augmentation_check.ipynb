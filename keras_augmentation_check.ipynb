{
 "cells": [
  {
   "cell_type": "markdown",
   "metadata": {},
   "source": [
    "## Data Augmentation using Keras"
   ]
  },
  {
   "cell_type": "markdown",
   "metadata": {},
   "source": [
    "##### See Lib\\site-packages\\keras_preprocessing\\image.py for implementation details"
   ]
  },
  {
   "cell_type": "code",
   "execution_count": 2,
   "metadata": {},
   "outputs": [],
   "source": [
    "import numpy as np\n",
    "from keras.preprocessing.image import ImageDataGenerator\n",
    "from matplotlib import pyplot as plt"
   ]
  },
  {
   "cell_type": "code",
   "execution_count": 3,
   "metadata": {},
   "outputs": [],
   "source": [
    "# Function for visualization\n",
    "def visualize_generator(generator):\n",
    "    xs = generator.next()\n",
    "    for xid, x in enumerate(xs):\n",
    "        plt.subplot(1, xs.shape[0], xid + 1)\n",
    "        plt.imshow(x.astype(np.uint8))\n",
    "        plt.axis('off')"
   ]
  },
  {
   "cell_type": "code",
   "execution_count": 4,
   "metadata": {},
   "outputs": [],
   "source": [
    "# Parameter -- ImageDataGenerator\n",
    "batch_size = 8"
   ]
  },
  {
   "cell_type": "code",
   "execution_count": 5,
   "metadata": {},
   "outputs": [],
   "source": [
    "# Create image for visualization\n",
    "img = np.ones((31, 31, 3), dtype=np.uint8) * 255\n",
    "img[16, :, 0], img[16, :, 1], img[16, :, 2] = 0, 0, 0\n",
    "img[:, 16, 0], img[:, 16, 1], img[:, 16, 2] = 0, 0, 0\n",
    "\n",
    "img[8, :, 0], img[8, :, 1], img[8, :, 2] = 255, 0, 0\n",
    "img[:, 8, 0], img[:, 8, 1], img[:, 8, 2] = 255, 0, 0\n",
    "\n",
    "img[24, :, 0], img[24, :, 1], img[24, :, 2] = 0, 255, 0\n",
    "img[:, 24, 0], img[:, 24, 1], img[:, 24, 2] = 0, 255, 0\n",
    "\n",
    "img[9:24, 9:24, 0], img[9:24, 9:24, 1], img[9:24, 9:24, 2] = 100, 100, 200\n",
    "imgs = np.array([img for ind in range(batch_size)])"
   ]
  },
  {
   "cell_type": "code",
   "execution_count": 6,
   "metadata": {},
   "outputs": [
    {
     "data": {
      "image/png": "[encoded data removed]",
      "text/plain": [
       "<Figure size 432x288 with 8 Axes>"
      ]
     },
     "metadata": {},
     "output_type": "display_data"
    }
   ],
   "source": [
    "# Check Rotation (Value -- 0 ~ 180 degree)\n",
    "datagen = ImageDataGenerator(rotation_range=20)\n",
    "generator = datagen.flow(imgs, batch_size=batch_size)\n",
    "visualize_generator(generator)"
   ]
  },
  {
   "cell_type": "code",
   "execution_count": 7,
   "metadata": {},
   "outputs": [
    {
     "data": {
      "image/png": "[encoded data removed]",
      "text/plain": [
       "<Figure size 432x288 with 8 Axes>"
      ]
     },
     "metadata": {},
     "output_type": "display_data"
    }
   ],
   "source": [
    "# Check Shift (Value : 0 ~ <1 ==> Maximum shift pixels = IM_W / IM_H * value)\n",
    "datagen = ImageDataGenerator(width_shift_range=0, height_shift_range=0.5)\n",
    "generator = datagen.flow(imgs, batch_size=batch_size)\n",
    "visualize_generator(generator)"
   ]
  },
  {
   "cell_type": "code",
   "execution_count": 8,
   "metadata": {},
   "outputs": [
    {
     "data": {
      "image/png": "[encoded data removed]",
      "text/plain": [
       "<Figure size 432x288 with 8 Axes>"
      ]
     },
     "metadata": {},
     "output_type": "display_data"
    }
   ],
   "source": [
    "# Check Zoom (Floating -- [1 - zoom_range, 1 + zoom_range], List)\n",
    "#            (<1 : Zoom in. >1 : Zoom out)\n",
    "#            (Zoom for X, Y direction are different values)\n",
    "datagen = ImageDataGenerator(zoom_range=[0.1, 1])\n",
    "generator = datagen.flow(imgs, batch_size=batch_size)\n",
    "visualize_generator(generator)"
   ]
  },
  {
   "cell_type": "code",
   "execution_count": 9,
   "metadata": {},
   "outputs": [
    {
     "data": {
      "image/png": "[encoded data removed]",
      "text/plain": [
       "<Figure size 432x288 with 8 Axes>"
      ]
     },
     "metadata": {},
     "output_type": "display_data"
    }
   ],
   "source": [
    "# Check Channel Shift (Float value. Apply offset (-Value ~ Value) on all channels)\n",
    "#                     (Can't apply channel dependent offset)\n",
    "datagen = ImageDataGenerator(channel_shift_range=255)\n",
    "generator = datagen.flow(imgs, batch_size=batch_size)\n",
    "visualize_generator(generator)"
   ]
  },
  {
   "cell_type": "code",
   "execution_count": 10,
   "metadata": {},
   "outputs": [
    {
     "data": {
      "image/png": "[encoded data removed]",
      "text/plain": [
       "<Figure size 432x288 with 8 Axes>"
      ]
     },
     "metadata": {},
     "output_type": "display_data"
    }
   ],
   "source": [
    "# Check Flip/Mirror\n",
    "datagen = ImageDataGenerator(horizontal_flip=True, vertical_flip=True)\n",
    "generator = datagen.flow(imgs, batch_size=batch_size)\n",
    "visualize_generator(generator)"
   ]
  },
  {
   "cell_type": "code",
   "execution_count": 11,
   "metadata": {},
   "outputs": [
    {
     "data": {
      "image/png": "[encoded data removed]",
      "text/plain": [
       "<Figure size 432x288 with 8 Axes>"
      ]
     },
     "metadata": {},
     "output_type": "display_data"
    }
   ],
   "source": [
    "# Check Preprocessing function (Applied after augmentation)\n",
    "def preprocess(img):\n",
    "    return img * 0.5\n",
    "\n",
    "datagen = ImageDataGenerator(preprocessing_function=preprocess)\n",
    "generator = datagen.flow(imgs, batch_size=batch_size)\n",
    "visualize_generator(generator)"
   ]
  }
 ],
 "metadata": {
  "kernelspec": {
   "display_name": "Python 3",
   "language": "python",
   "name": "python3"
  },
  "language_info": {
   "codemirror_mode": {
    "name": "ipython",
    "version": 3
   },
   "file_extension": ".py",
   "mimetype": "text/x-python",
   "name": "python",
   "nbconvert_exporter": "python",
   "pygments_lexer": "ipython3",
   "version": "3.6.5"
  }
 },
 "nbformat": 4,
 "nbformat_minor": 2
}
