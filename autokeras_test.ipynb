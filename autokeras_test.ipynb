{
 "cells": [
  {
   "cell_type": "markdown",
   "metadata": {},
   "source": [
    "## Auto-Keras test"
   ]
  },
  {
   "cell_type": "markdown",
   "metadata": {},
   "source": [
    "### Ref : https://www.pyimagesearch.com/2019/01/07/auto-keras-and-automl-a-getting-started-guide/"
   ]
  },
  {
   "cell_type": "code",
   "execution_count": 1,
   "metadata": {},
   "outputs": [
    {
     "name": "stderr",
     "output_type": "stream",
     "text": [
      "Using TensorFlow backend.\n"
     ]
    }
   ],
   "source": [
    "from sklearn.metrics import classification_report\n",
    "from keras.datasets import cifar10\n",
    "import autokeras as ak\n",
    "import os"
   ]
  },
  {
   "cell_type": "code",
   "execution_count": 6,
   "metadata": {},
   "outputs": [],
   "source": [
    "# Load CIFAR data\n",
    "labelNames = [\"airplane\", \"automobile\", \"bird\", \"cat\",\\\n",
    "              \"deer\", \"dog\", \"frog\", \"horse\", \"ship\", \"truck\"]\n",
    "((trainX, trainY), (testX, testY)) = cifar10.load_data()\n",
    "\n",
    "trainX, trainY = trainX[:1000].astype(\"float\") / 255.0, trainY[:1000]\n",
    "testX, testY = testX[:100].astype(\"float\") / 255.0, testY[:100]"
   ]
  },
  {
   "cell_type": "code",
   "execution_count": 7,
   "metadata": {
    "scrolled": true
   },
   "outputs": [
    {
     "name": "stdout",
     "output_type": "stream",
     "text": [
      "Saving Directory: C:\\Users\\pc\\AppData\\Local\\Temp\\autokeras_7L2MXT\n",
      "Preprocessing the images.\n",
      "Preprocessing finished.\n",
      "\n",
      "Initializing search.\n",
      "Initialization finished.\n",
      "\n",
      "\n",
      "+----------------------------------------------+\n",
      "|               Training model 0               |\n",
      "+----------------------------------------------+\n",
      "\n",
      "Saving model.\n",
      "+--------------------------------------------------------------------------+\n",
      "|        Model ID        |          Loss          |      Metric Value      |\n",
      "+--------------------------------------------------------------------------+\n",
      "|           0            |   2.1371224164962768   |   0.2120481927710843   |\n",
      "+--------------------------------------------------------------------------+\n",
      "\n",
      "\n",
      "+----------------------------------------------+\n",
      "|               Training model 1               |\n",
      "+----------------------------------------------+\n",
      "Time is out.\n"
     ]
    }
   ],
   "source": [
    "# Search optimal network / hyperparameter using autokeras\n",
    "MAX_TRAIN_TIME = 60 # In seconds\n",
    "model = ak.ImageClassifier(verbose=True)\n",
    "model.fit(trainX, trainY, time_limit=MAX_TRAIN_TIME)"
   ]
  },
  {
   "cell_type": "code",
   "execution_count": null,
   "metadata": {},
   "outputs": [
    {
     "name": "stdout",
     "output_type": "stream",
     "text": [
      "Epoch-58, Current Metric - 0.35:   0%|                                    | 0/8 [00:00<?, ? batch/s]"
     ]
    }
   ],
   "source": [
    "# Training using optimal network / hyperparameter\n",
    "model.final_fit(trainX, trainY, testX, testY, retrain=True)"
   ]
  },
  {
   "cell_type": "code",
   "execution_count": null,
   "metadata": {},
   "outputs": [],
   "source": [
    "# Evaluation\n",
    "predictions = model.predict(testX)\n",
    "report = classification_report(testY, predictions, target_names=labelNames)"
   ]
  }
 ],
 "metadata": {
  "kernelspec": {
   "display_name": "Python 3",
   "language": "python",
   "name": "python3"
  },
  "language_info": {
   "codemirror_mode": {
    "name": "ipython",
    "version": 3
   },
   "file_extension": ".py",
   "mimetype": "text/x-python",
   "name": "python",
   "nbconvert_exporter": "python",
   "pygments_lexer": "ipython3",
   "version": "3.6.7"
  }
 },
 "nbformat": 4,
 "nbformat_minor": 2
}
